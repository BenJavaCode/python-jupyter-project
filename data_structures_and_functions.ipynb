{
 "cells": [
  {
   "cell_type": "code",
   "execution_count": 1,
   "metadata": {},
   "outputs": [],
   "source": [
    "#list,tuples,dictionaries,sets\n",
    "#functions, nested functions and closure\n",
    "#inbuild functions, magic functions"
   ]
  },
  {
   "cell_type": "markdown",
   "metadata": {},
   "source": [
    "# Lists"
   ]
  },
  {
   "cell_type": "code",
   "execution_count": 24,
   "metadata": {},
   "outputs": [],
   "source": [
    "animals = ['dog', 'cat', 'rat', 'human']"
   ]
  },
  {
   "cell_type": "code",
   "execution_count": 25,
   "metadata": {},
   "outputs": [
    {
     "name": "stdout",
     "output_type": "stream",
     "text": [
      "['dog', 'rat', 'human']\n",
      "['dog', 'human']\n"
     ]
    }
   ],
   "source": [
    "#delete\n",
    "animals[1:2] = []\n",
    "print(animals)\n",
    "\n",
    "del animals[1]\n",
    "print(animals)"
   ]
  },
  {
   "cell_type": "code",
   "execution_count": 26,
   "metadata": {},
   "outputs": [
    {
     "name": "stdout",
     "output_type": "stream",
     "text": [
      "['dog', 'human', 'bird']\n",
      "['dog', 'human', 'bird', 'shark']\n"
     ]
    }
   ],
   "source": [
    "#append\n",
    "animals = animals + ['bird']\n",
    "print(animals)\n",
    "animals.append('shark')\n",
    "print(animals)"
   ]
  },
  {
   "cell_type": "code",
   "execution_count": 27,
   "metadata": {},
   "outputs": [
    {
     "name": "stdout",
     "output_type": "stream",
     "text": [
      "['frog', 'dog', 'human', 'bird', 'shark']\n",
      "['frog', 'dog', 'human', 'bird', 'shark', 'lizzard']\n",
      "['frog', 'dog', 'human', 'bird', 'shark', 'lizzard', 'snake', 'drake']\n"
     ]
    }
   ],
   "source": [
    "#prepend\n",
    "animals = ['frog'] + animals\n",
    "print(animals)\n",
    "animals.extend(['lizzard'])\n",
    "print(animals)\n",
    "animals.extend(['snake', 'drake'])\n",
    "print(animals)"
   ]
  },
  {
   "cell_type": "code",
   "execution_count": 30,
   "metadata": {},
   "outputs": [
    {
     "name": "stdout",
     "output_type": "stream",
     "text": [
      "this is what we got \"snake\"\n",
      "['frog', 'dog', 'farret', 'human', 'bird', 'slamander', 'shark', 'lizzard']\n"
     ]
    }
   ],
   "source": [
    "#pop\n",
    "animal = animals.pop()\n",
    "print(f'this is what we got \"{animal}\"' )\n",
    "print(animals)"
   ]
  },
  {
   "cell_type": "code",
   "execution_count": 29,
   "metadata": {},
   "outputs": [
    {
     "name": "stdout",
     "output_type": "stream",
     "text": [
      "['frog', 'dog', 'farret', 'human', 'bird', 'shark', 'lizzard', 'snake']\n",
      "['frog', 'dog', 'farret', 'human', 'bird', 'slamander', 'shark', 'lizzard', 'snake']\n"
     ]
    }
   ],
   "source": [
    "#insert\n",
    "animals[2:2] = ['farret']\n",
    "print(animals)\n",
    "animals.insert(5, 'slamander')\n",
    "print(animals)"
   ]
  },
  {
   "cell_type": "code",
   "execution_count": 31,
   "metadata": {},
   "outputs": [
    {
     "data": {
      "text/plain": [
       "['farret']"
      ]
     },
     "execution_count": 31,
     "metadata": {},
     "output_type": "execute_result"
    }
   ],
   "source": [
    "#get\n",
    "print(animals[2:3])"
   ]
  },
  {
   "cell_type": "code",
   "execution_count": 37,
   "metadata": {},
   "outputs": [
    {
     "name": "stdout",
     "output_type": "stream",
     "text": [
      "['dog', 'human', 'slamander']\n",
      "['frog', 'farret', 'bird', 'shark']\n",
      "['lizzard', 'shark', 'slamander', 'bird', 'human', 'farret', 'dog', 'frog']\n"
     ]
    }
   ],
   "source": [
    "#list traversal\n",
    "print(animals[1:6:2])\n",
    "print(animals[::2])\n",
    "print(animals[::-1])"
   ]
  },
  {
   "cell_type": "markdown",
   "metadata": {},
   "source": [
    "# Tuples"
   ]
  },
  {
   "cell_type": "code",
   "execution_count": 39,
   "metadata": {},
   "outputs": [
    {
     "ename": "TypeError",
     "evalue": "'tuple' object does not support item assignment",
     "output_type": "error",
     "traceback": [
      "\u001b[1;31m---------------------------------------------------------------------------\u001b[0m",
      "\u001b[1;31mTypeError\u001b[0m                                 Traceback (most recent call last)",
      "\u001b[1;32m<ipython-input-39-87121984a460>\u001b[0m in \u001b[0;36m<module>\u001b[1;34m\u001b[0m\n\u001b[0;32m      1\u001b[0m \u001b[1;31m#Tuples are immutable\u001b[0m\u001b[1;33m\u001b[0m\u001b[1;33m\u001b[0m\u001b[1;33m\u001b[0m\u001b[0m\n\u001b[0;32m      2\u001b[0m \u001b[0mt\u001b[0m \u001b[1;33m=\u001b[0m \u001b[1;33m(\u001b[0m\u001b[1;36m1\u001b[0m\u001b[1;33m,\u001b[0m\u001b[1;36m4\u001b[0m\u001b[1;33m,\u001b[0m\u001b[1;34m'darth vader'\u001b[0m\u001b[1;33m)\u001b[0m\u001b[1;33m\u001b[0m\u001b[1;33m\u001b[0m\u001b[0m\n\u001b[1;32m----> 3\u001b[1;33m \u001b[0mt\u001b[0m\u001b[1;33m[\u001b[0m\u001b[1;36m0\u001b[0m\u001b[1;33m]\u001b[0m \u001b[1;33m=\u001b[0m \u001b[1;33m[\u001b[0m\u001b[1;33m]\u001b[0m\u001b[1;33m\u001b[0m\u001b[1;33m\u001b[0m\u001b[0m\n\u001b[0m",
      "\u001b[1;31mTypeError\u001b[0m: 'tuple' object does not support item assignment"
     ]
    }
   ],
   "source": [
    "#Tuples are immutable\n",
    "t = (1,4,'darth vader')\n",
    "t[0] = []"
   ]
  },
  {
   "cell_type": "code",
   "execution_count": 40,
   "metadata": {},
   "outputs": [
    {
     "name": "stdout",
     "output_type": "stream",
     "text": [
      "1\n",
      "4\n",
      "darth vader\n"
     ]
    }
   ],
   "source": [
    "#but are an iterable like list,dicts,sets and so on\n",
    "for i in t:\n",
    "    print(i)"
   ]
  },
  {
   "cell_type": "code",
   "execution_count": 43,
   "metadata": {},
   "outputs": [
    {
     "data": {
      "text/plain": [
       "(1, 'darth vader')"
      ]
     },
     "execution_count": 43,
     "metadata": {},
     "output_type": "execute_result"
    }
   ],
   "source": [
    "#and can also be traversed like lists\n",
    "t[0::2]"
   ]
  },
  {
   "cell_type": "code",
   "execution_count": 45,
   "metadata": {},
   "outputs": [
    {
     "data": {
      "text/plain": [
       "(0, 1)"
      ]
     },
     "execution_count": 45,
     "metadata": {},
     "output_type": "execute_result"
    }
   ],
   "source": [
    "#packing and unpacking\n",
    "a = 1\n",
    "b = 0\n",
    "b,a = a,b\n",
    "a,b"
   ]
  },
  {
   "cell_type": "code",
   "execution_count": 56,
   "metadata": {},
   "outputs": [
    {
     "name": "stdout",
     "output_type": "stream",
     "text": [
      "('rice', 'wine')\n",
      "('noodel', 'beer')\n",
      "('potatoeeee', 'water')\n",
      "('fish', 'juice!')\n"
     ]
    }
   ],
   "source": [
    "a = ['rice', 'noodel', 'potatoeeee', 'fish']\n",
    "b = ['wine', 'beer', 'water', 'juice!']\n",
    "c = zip(a,b)\n",
    "for i in c:\n",
    "    print(i)"
   ]
  },
  {
   "cell_type": "markdown",
   "metadata": {},
   "source": [
    "# Dictionaries"
   ]
  },
  {
   "cell_type": "code",
   "execution_count": 60,
   "metadata": {},
   "outputs": [],
   "source": [
    "#unordered, mutable\n",
    "stuff = {'water': 0, 'beer': 15, 'peanuts': 5, 'lager': 30, 'cards': 5}"
   ]
  },
  {
   "cell_type": "code",
   "execution_count": 64,
   "metadata": {},
   "outputs": [
    {
     "data": {
      "text/plain": [
       "(0, 30)"
      ]
     },
     "execution_count": 64,
     "metadata": {},
     "output_type": "execute_result"
    }
   ],
   "source": [
    "stuff['water'], stuff['lager']"
   ]
  },
  {
   "cell_type": "code",
   "execution_count": 68,
   "metadata": {},
   "outputs": [
    {
     "name": "stdout",
     "output_type": "stream",
     "text": [
      "water\n",
      "beer\n",
      "peanuts\n",
      "lager\n",
      "cards\n"
     ]
    }
   ],
   "source": [
    "for i in stuff:\n",
    "    print(i)"
   ]
  },
  {
   "cell_type": "code",
   "execution_count": 65,
   "metadata": {},
   "outputs": [
    {
     "name": "stdout",
     "output_type": "stream",
     "text": [
      "water 0\n",
      "beer 15\n",
      "peanuts 5\n",
      "lager 30\n",
      "cards 5\n"
     ]
    }
   ],
   "source": [
    "for i, j in stuff.items():\n",
    "    print(i,j)"
   ]
  },
  {
   "cell_type": "code",
   "execution_count": 67,
   "metadata": {},
   "outputs": [
    {
     "name": "stdout",
     "output_type": "stream",
     "text": [
      "0\n",
      "15\n",
      "5\n",
      "30\n",
      "5\n"
     ]
    }
   ],
   "source": [
    "for i in stuff.values():\n",
    "    print(i)"
   ]
  },
  {
   "cell_type": "code",
   "execution_count": 72,
   "metadata": {},
   "outputs": [
    {
     "data": {
      "text/plain": [
       "{'water': 0, 'beer': 15, 'peanuts': 5, 'lager': 30, 'cards': 0}"
      ]
     },
     "execution_count": 72,
     "metadata": {},
     "output_type": "execute_result"
    }
   ],
   "source": [
    "#update \n",
    "stuff['cards'] = 0\n",
    "stuff"
   ]
  },
  {
   "cell_type": "code",
   "execution_count": 74,
   "metadata": {},
   "outputs": [
    {
     "name": "stdout",
     "output_type": "stream",
     "text": [
      "{'water': 0, 'beer': 15, 'peanuts': 5, 'lager': 30, 'cards': 0, 'whiskey': 20}\n"
     ]
    }
   ],
   "source": [
    "#append\n",
    "stuff['whiskey'] = 20\n",
    "print(stuff)\n",
    "stuff['whiskey'] = 20 # no duplicates"
   ]
  },
  {
   "cell_type": "code",
   "execution_count": 77,
   "metadata": {},
   "outputs": [
    {
     "data": {
      "text/plain": [
       "{'water': 0,\n",
       " 'beer': 15,\n",
       " 'peanuts': 5,\n",
       " 'lager': 30,\n",
       " 'cards': 0,\n",
       " 'whiskey': 20,\n",
       " 'darts': 5,\n",
       " 'sour shot': 10}"
      ]
     },
     "execution_count": 77,
     "metadata": {},
     "output_type": "execute_result"
    }
   ],
   "source": [
    "#merge\n",
    "stuff2 = {'darts': 5, 'sour shot': 10}\n",
    "stuff = {**stuff, **stuff2}\n",
    "stuff"
   ]
  },
  {
   "cell_type": "markdown",
   "metadata": {},
   "source": [
    "# sets"
   ]
  },
  {
   "cell_type": "code",
   "execution_count": 78,
   "metadata": {},
   "outputs": [],
   "source": [
    "#unordered, unchangable, no duplicates\n",
    "social_security_numbers = {\"12-10-1997-0756\", \"11-02-1993-0198\", \"04-07-1978-1759\"}"
   ]
  },
  {
   "cell_type": "code",
   "execution_count": 79,
   "metadata": {},
   "outputs": [
    {
     "ename": "TypeError",
     "evalue": "'set' object does not support item assignment",
     "output_type": "error",
     "traceback": [
      "\u001b[1;31m---------------------------------------------------------------------------\u001b[0m",
      "\u001b[1;31mTypeError\u001b[0m                                 Traceback (most recent call last)",
      "\u001b[1;32m<ipython-input-79-477e4f7d32cc>\u001b[0m in \u001b[0;36m<module>\u001b[1;34m\u001b[0m\n\u001b[0;32m      1\u001b[0m \u001b[1;31m#unchangable\u001b[0m\u001b[1;33m\u001b[0m\u001b[1;33m\u001b[0m\u001b[1;33m\u001b[0m\u001b[0m\n\u001b[1;32m----> 2\u001b[1;33m \u001b[0msocial_security_numbers\u001b[0m\u001b[1;33m[\u001b[0m\u001b[1;34m\"12-10-1997-0756\"\u001b[0m\u001b[1;33m]\u001b[0m \u001b[1;33m=\u001b[0m \u001b[1;33m[\u001b[0m\u001b[1;34m\"12-10-1997-0756\"\u001b[0m\u001b[1;33m]\u001b[0m\u001b[1;33m\u001b[0m\u001b[1;33m\u001b[0m\u001b[0m\n\u001b[0m",
      "\u001b[1;31mTypeError\u001b[0m: 'set' object does not support item assignment"
     ]
    }
   ],
   "source": [
    "#unchangable\n",
    "social_security_numbers[\"12-10-1997-0756\"] = [\"12-10-1997-0756\"]"
   ]
  },
  {
   "cell_type": "code",
   "execution_count": 82,
   "metadata": {},
   "outputs": [
    {
     "data": {
      "text/plain": [
       "{'04-07-1978-1759', '06-03-1997-0116', '11-02-1993-0198', '12-10-1997-0756'}"
      ]
     },
     "execution_count": 82,
     "metadata": {},
     "output_type": "execute_result"
    }
   ],
   "source": [
    "#add\n",
    "social_security_numbers.add(\"06-03-1997-0116\")\n",
    "social_security_numbers"
   ]
  },
  {
   "cell_type": "code",
   "execution_count": 83,
   "metadata": {},
   "outputs": [
    {
     "data": {
      "text/plain": [
       "{'02-03-1989-0108',\n",
       " '03-01-1992-0956',\n",
       " '04-07-1978-1759',\n",
       " '06-03-1997-0116',\n",
       " '11-02-1993-0198',\n",
       " '12-10-1997-0756'}"
      ]
     },
     "execution_count": 83,
     "metadata": {},
     "output_type": "execute_result"
    }
   ],
   "source": [
    "#update\n",
    "social_security_numbers.update([\"02-03-1989-0108\", \"03-01-1992-0956\"])\n",
    "social_security_numbers"
   ]
  },
  {
   "cell_type": "code",
   "execution_count": 86,
   "metadata": {},
   "outputs": [
    {
     "name": "stdout",
     "output_type": "stream",
     "text": [
      "{'04-07-1978-1759', '11-02-1993-0198', '02-03-1989-0108', '03-01-1992-0956', '06-03-1997-0116'}\n",
      "{'04-07-1978-1759', '11-02-1993-0198', '02-03-1989-0108', '03-01-1992-0956', '06-03-1997-0116'}\n"
     ]
    },
    {
     "ename": "KeyError",
     "evalue": "'12-10-1997-0756'",
     "output_type": "error",
     "traceback": [
      "\u001b[1;31m---------------------------------------------------------------------------\u001b[0m",
      "\u001b[1;31mKeyError\u001b[0m                                  Traceback (most recent call last)",
      "\u001b[1;32m<ipython-input-86-b1b54c21c311>\u001b[0m in \u001b[0;36m<module>\u001b[1;34m\u001b[0m\n\u001b[0;32m      4\u001b[0m \u001b[0msocial_security_numbers\u001b[0m\u001b[1;33m.\u001b[0m\u001b[0mdiscard\u001b[0m\u001b[1;33m(\u001b[0m\u001b[1;34m\"12-10-1997-0756\"\u001b[0m\u001b[1;33m)\u001b[0m \u001b[1;31m# ok even if not possible\u001b[0m\u001b[1;33m\u001b[0m\u001b[1;33m\u001b[0m\u001b[0m\n\u001b[0;32m      5\u001b[0m \u001b[0mprint\u001b[0m\u001b[1;33m(\u001b[0m\u001b[0msocial_security_numbers\u001b[0m\u001b[1;33m)\u001b[0m\u001b[1;33m\u001b[0m\u001b[1;33m\u001b[0m\u001b[0m\n\u001b[1;32m----> 6\u001b[1;33m \u001b[0msocial_security_numbers\u001b[0m\u001b[1;33m.\u001b[0m\u001b[0mremove\u001b[0m\u001b[1;33m(\u001b[0m\u001b[1;34m\"12-10-1997-0756\"\u001b[0m\u001b[1;33m)\u001b[0m \u001b[1;31m# will throw error because not possible\u001b[0m\u001b[1;33m\u001b[0m\u001b[1;33m\u001b[0m\u001b[0m\n\u001b[0m",
      "\u001b[1;31mKeyError\u001b[0m: '12-10-1997-0756'"
     ]
    }
   ],
   "source": [
    "#remove and discard\n",
    "social_security_numbers.discard(\"12-10-1997-0756\")\n",
    "print(social_security_numbers)\n",
    "social_security_numbers.discard(\"12-10-1997-0756\") # ok even if not possible\n",
    "print(social_security_numbers)\n",
    "social_security_numbers.remove(\"12-10-1997-0756\") # will throw error because not possible"
   ]
  },
  {
   "cell_type": "markdown",
   "metadata": {},
   "source": [
    "# Functions"
   ]
  },
  {
   "cell_type": "code",
   "execution_count": 97,
   "metadata": {},
   "outputs": [],
   "source": [
    "def do_something(p):\n",
    "    dogList = [\"cairn-terrier\", \"bulldog\", \"german-shepherd\"]\n",
    "    try:\n",
    "        iterator = iter(p)\n",
    "        return dict(zip(p, dogList))\n",
    "    except TypeError:\n",
    "        print(\"p must be a iterable\")\n",
    "        "
   ]
  },
  {
   "cell_type": "code",
   "execution_count": 100,
   "metadata": {},
   "outputs": [
    {
     "data": {
      "text/plain": [
       "{1: 'cairn-terrier', 2: 'bulldog', 4: 'german-shepherd'}"
      ]
     },
     "execution_count": 100,
     "metadata": {},
     "output_type": "execute_result"
    }
   ],
   "source": [
    "do_something([1,2,4])"
   ]
  },
  {
   "cell_type": "code",
   "execution_count": 101,
   "metadata": {},
   "outputs": [
    {
     "data": {
      "text/plain": [
       "{1: 'cairn-terrier', 5: 'bulldog', 7: 'german-shepherd'}"
      ]
     },
     "execution_count": 101,
     "metadata": {},
     "output_type": "execute_result"
    }
   ],
   "source": [
    "#first class object, meaning it can be passed as parameter\n",
    "def do_composite(func, keys_list):\n",
    "    return func(keys_list)\n",
    "\n",
    "do_composite(do_something, [1,5,7])"
   ]
  },
  {
   "cell_type": "code",
   "execution_count": 102,
   "metadata": {},
   "outputs": [
    {
     "name": "stdout",
     "output_type": "stream",
     "text": [
      "27\n"
     ]
    }
   ],
   "source": [
    "#closure\n",
    "'''A closure simply causes the inner function to remember the state of its environment when called. \n",
    "Beginners often think that a closure is the inner function, but it’s really caused by the inner function.\n",
    "The closure “closes” the local variable on the stack, and this stays around after the stack creation has finished executing.'''\n",
    "\n",
    "def make_multiplier_of(n):\n",
    "    def multiplier(x):\n",
    "        return x * n\n",
    "    return multiplier\n",
    "\n",
    "times3 = make_multiplier_of(3)\n",
    "print(times3(9))\n",
    "\n",
    "#this could be done instead of making a class with one function"
   ]
  },
  {
   "cell_type": "code",
   "execution_count": null,
   "metadata": {},
   "outputs": [],
   "source": [
    "#closure factory functions / decorators\n",
    "def generate_power(exponent):\n",
    "    def decorator(f):\n",
    "        def inner(*args):\n",
    "            result = f(*args)\n",
    "            return exponent**result\n",
    "        return inner\n",
    "    return decorator\n",
    "\n",
    "\n",
    "@generate_power(2)\n",
    "def raise_two(n):\n",
    "    return n\n",
    "\n",
    "print(raise_two(7))\n",
    "\n",
    "\n",
    "@generate_power(3)\n",
    "def raise_three(n):\n",
    "    return n\n",
    "\n",
    "print(raise_two(5))"
   ]
  },
  {
   "cell_type": "markdown",
   "metadata": {},
   "source": [
    "# inbuild functions\n"
   ]
  },
  {
   "cell_type": "code",
   "execution_count": 106,
   "metadata": {},
   "outputs": [
    {
     "data": {
      "text/plain": [
       "(list, 3, '[1, 23, 4]', 49)"
      ]
     },
     "execution_count": 106,
     "metadata": {},
     "output_type": "execute_result"
    }
   ],
   "source": [
    "\n",
    "a = [1,23,4]\n",
    "type(a), len(a), str(a), abs(-49)"
   ]
  },
  {
   "cell_type": "markdown",
   "metadata": {},
   "source": [
    "# Magic functions"
   ]
  },
  {
   "cell_type": "code",
   "execution_count": 152,
   "metadata": {},
   "outputs": [],
   "source": [
    "class Deck():\n",
    "    def __init__(self):\n",
    "        cards = [[(y,x) for x in ['Clubs', 'Diamonds', 'Hearts', 'Spades']] for y in range(1,14)]\n",
    "        cards =  [x for sublist in cards for x in sublist]\n",
    "        self.cards = cards\n",
    "        \n",
    "    def __str__(self):\n",
    "        return(f'deck = {self.cards}')\n",
    "    \n",
    "    def __len__(self):\n",
    "        count = 0\n",
    "        for x in self.cards:\n",
    "            count += 1\n",
    "        return(count)\n",
    "    \n",
    "    def __getitem__(self, idx):\n",
    "        if isinstance(idx, int):\n",
    "            try:\n",
    "                return(self.cards[idx])\n",
    "            except(KeyError):\n",
    "                print(\"list index out of range\")\n",
    "        else:\n",
    "            raise(typeError)\n",
    "            \n",
    "    def __setitem__(self, slice_, value):\n",
    "        print(f'{slice_} this is index input')\n",
    "        \n",
    "        try:\n",
    "            if str(value[1]).lower() in ['clubs', 'diamonds', 'hearts', 'spades']:\n",
    "                if isinstance(slice_, int):\n",
    "                    self.cards[slice_] = (value[0], value[1])\n",
    "                else:\n",
    "                    self.cards[slice_.start:slice_.stop:slice_.step] = [(value[0], value[1])]       \n",
    "            else:\n",
    "                print('color of card must be either clubs, diamonds, hearts, spades')\n",
    "        except(KeyError):\n",
    "            print('list index out of range')\n",
    "                \n",
    "    def __delitem__(self, idx):\n",
    "        if isinstance(idx, int):\n",
    "            try:\n",
    "                self.cards[idx:idx+1] = []\n",
    "            except(KeyError):\n",
    "                print('list index out of range')\n",
    "                \n",
    "    def __iter__(self):\n",
    "        return iter(self.cards)\n",
    "    "
   ]
  },
  {
   "cell_type": "code",
   "execution_count": null,
   "metadata": {},
   "outputs": [],
   "source": [
    "#ITERATOR EXPLAINED\n",
    "'''An iterator is an object that contains a countable number of values.\n",
    "\n",
    "An iterator is an object that can be iterated upon, \n",
    "meaning that you can traverse through all the values.\n",
    "\n",
    "Technically, in Python, an iterator is an object which implements the iterator protocol,\n",
    "which consist of the methods __iter__() and __next__().'''\n",
    "\n",
    "'''Lists, tuples, dictionaries, and sets are all iterable objects. \n",
    "They are iterable containers which you can get an iterator from.\n",
    "\n",
    "All these objects have a iter() method which is used to get an iterator:'''"
   ]
  },
  {
   "cell_type": "code",
   "execution_count": null,
   "metadata": {},
   "outputs": [],
   "source": [
    "#CONTAINER EXPLAINED\n",
    "'''Containers are any object that holds an arbitrary number of other objects. \n",
    "Generally, containers provide a way to access the contained objects and to iterate over them.'''\n",
    "''''''\n",
    "''' any type that supports the in operator via the __contains__ magic method is a container'''"
   ]
  },
  {
   "cell_type": "markdown",
   "metadata": {},
   "source": [
    "# Blackjack\n",
    "\n",
    "\n",
    "\n"
   ]
  },
  {
   "cell_type": "code",
   "execution_count": 9,
   "metadata": {},
   "outputs": [],
   "source": [
    "# DECK CLASS\n",
    "import random\n",
    "\n",
    "class Deck():\n",
    "    def __init__(self):\n",
    "        cards = [[(y,x) for x in ['Clubs', 'Diamonds', 'Hearts', 'Spades']] for y in range(1,14)]\n",
    "        cards =  [x for sublist in cards for x in sublist]\n",
    "        self.cards = cards    \n",
    "        \n",
    "    def __str__(self):\n",
    "        return(f'deck = {self.cards}')\n",
    "    \n",
    "    def __len__(self):\n",
    "        count = 0\n",
    "        for x in self.cards:\n",
    "            count += 1\n",
    "        return(count)\n",
    "    \n",
    "    def __getitem__(self, idx):\n",
    "        if isinstance(idx, int):\n",
    "            try:\n",
    "                return(self.cards[idx])\n",
    "            except(KeyError):\n",
    "                print(\"list index out of range\")\n",
    "        else:\n",
    "            raise(typeError)\n",
    "            \n",
    "    def __setitem__(self, slice_, value):\n",
    "        print(f'{slice_} this is index input')\n",
    "        \n",
    "        try:\n",
    "            if str(value[1]).lower() in ['clubs', 'diamonds', 'hearts', 'spades']:\n",
    "                if isinstance(slice_, int):\n",
    "                    self.cards[slice_] = (value[0], value[1])\n",
    "                else:\n",
    "                    self.cards[slice_.start:slice_.stop:slice_.step] = [(value[0], value[1])]       \n",
    "            else:\n",
    "                print('color of card must be either clubs, diamonds, hearts, spades')\n",
    "        except(KeyError):\n",
    "            print('list index out of range')\n",
    "                \n",
    "    def __delitem__(self, idx):\n",
    "        if isinstance(idx, int):\n",
    "            try:\n",
    "                self.cards[idx:idx+1] = []\n",
    "            except(KeyError):\n",
    "                print('list index out of range')\n",
    "                \n",
    "    def __iter__(self):\n",
    "        return iter(self.cards)\n",
    "    \n",
    "    @staticmethod\n",
    "    def describtion():\n",
    "        print('This is a standard 52-card deck of French-suited playing cards. it is the most common pack of playing cards used today')\n",
    "    #is a static method. It’s not dependent on the class, \n",
    "    #Static methods can be called on either an instance or the class.\n",
    "    \n",
    "    def pop(self, idx):\n",
    "        return self.cards.pop(idx)\n",
    "    \n",
    "    \n",
    "    def shuffle(self):\n",
    "        random.shuffle(self.cards)\n"
   ]
  },
  {
   "cell_type": "code",
   "execution_count": 10,
   "metadata": {},
   "outputs": [],
   "source": [
    "#PARTICIPANT\n",
    "\n",
    "class Participant():\n",
    "    \n",
    "    game_status = 1\n",
    "    \n",
    "    def __init__(self, cash = 0, status = 0):\n",
    "        \n",
    "        self.hand = [[]]\n",
    "        self.cash = cash\n",
    "        self.status = status\n",
    "        \n",
    "    def receive_card(self, card, idx):\n",
    "        self.hand[idx].insert(0, card)\n",
    "    \n",
    "    def result(self, amount, game_over = 'Game over'):\n",
    "        self.cash += amount\n",
    "        if self.cash == 0:\n",
    "            self.game_status = game_over\n",
    "    \n",
    "    def round_over(self, result):\n",
    "        self.cash += result\n",
    "    "
   ]
  },
  {
   "cell_type": "code",
   "execution_count": 11,
   "metadata": {},
   "outputs": [],
   "source": [
    "#PLAYER\n",
    "\n",
    "class Player(Participant):\n",
    "    \n",
    "    bet = [[]]\n",
    "    \n",
    "    def __init__(self, dealer):\n",
    "        super().__init__()\n",
    "        self.cash = 500\n",
    "        self.dealer = dealer\n",
    "    \n",
    "    def place_bet(self, p_bet = 0, target = 'none', double = 'none'):\n",
    "        if self.cash - p_bet < 0:\n",
    "            p_bet = self.cash\n",
    "            print(f'insufficient funds placed bet of {p_bet} instead')\n",
    "        if target == 'none':\n",
    "            self.cash -= p_bet\n",
    "            self.bet[0] = p_bet\n",
    "        elif double == 'none':\n",
    "            self.cash -=  self.bet[target]\n",
    "            self.bet = [x for i,x in enumerate(self.bet) if i !=target] + [self.bet[target], self.bet[target]]\n",
    "        else:\n",
    "            self.cash -= self.bet[target]\n",
    "            self.bet[target] = self.bet[target] * 2\n",
    "        print(f'cash : {self.cash}')\n",
    "                \n",
    "    def result(self, amount, game_over = 'Game over player broke'):\n",
    "        return super().result(amount, game_over)\n",
    "    \n",
    "    def hit(self, idx):\n",
    "        self.dealer.deal(idx, 1)\n",
    "        \n",
    "    def split(self,target):\n",
    "        self.hand = [x for i,x in enumerate(self.hand) if i!=target] + [[x] for x in self.hand[target]]\n",
    "        \n",
    "    def receive_card(self, card, idx):\n",
    "        super().receive_card(card, idx)\n",
    "        if len(self.hand) == 1 and all(len(x) >= 2 for x in self.hand):\n",
    "            print(f'Player hand: {self.hand}')\n",
    "        elif all(len(x) >= 2 for x in self.hand):\n",
    "            for i, y in enumerate(self.hand):\n",
    "                print(f'Player hand number {i}: {y}')\n",
    "        "
   ]
  },
  {
   "cell_type": "code",
   "execution_count": 12,
   "metadata": {},
   "outputs": [],
   "source": [
    "#DEALER\n",
    "\n",
    "class Dealer(Participant):\n",
    "    \n",
    "    d_h_sum = 0\n",
    "    \n",
    "    def __init__(self, deck):\n",
    "        super().__init__()\n",
    "        self.cash = 100000\n",
    "        self.player = None\n",
    "        self.deck = deck\n",
    "      \n",
    "    @property\n",
    "    def d_h_sum(self):\n",
    "        return self.__d_h_sum\n",
    "    \n",
    "    @d_h_sum.setter\n",
    "    def d_h_sum(self, inp):\n",
    "        if isinstance(inp, int):\n",
    "            self.__d_h_sum = inp\n",
    "        \n",
    "    \n",
    "    def __draw(self):\n",
    "        try:\n",
    "            return self.deck.pop(0)\n",
    "        except IndexError:\n",
    "            print('No more cards in deck, new deck was inserted in shoe')\n",
    "            self.deck = Deck()\n",
    "            self.deck.shuffle()\n",
    "            return self.deck.pop(0)\n",
    "            \n",
    "    \n",
    "    def __deal_player_card(self, card, idx):\n",
    "        self.player.receive_card(card, idx) \n",
    "        \n",
    "    \n",
    "    def deal(self, idx, target = 0):\n",
    "        card = self.__draw()\n",
    "        if target == 0: \n",
    "            self.__receive_card(card)\n",
    "        else:\n",
    "            self.__deal_player_card(card, idx)\n",
    "    \n",
    "    def add_player(self, player):\n",
    "        self.player = player\n",
    "    \n",
    "    def result(self, amount, game_over = 'Congratulazions you beat the house, the game is over!'):\n",
    "        return super().result(amount, game_over)\n",
    "    \n",
    "    def round_over(self, bets):\n",
    "        for i in bets:\n",
    "            if i[1] == 0:#draw\n",
    "                self.player.result(i[0])\n",
    "            if i[1] == 1:#dealer blackjack\n",
    "                self.result(i[0])\n",
    "                self.player.result(0)\n",
    "            if i[1] == 2:#player blackjack\n",
    "                self.player.result(i[0] + i[0]*1.5)\n",
    "                self.result(-(i[0] * 1.5))\n",
    "            if i[1] == 3:#player won\n",
    "                self.player.result(i[0]*2)\n",
    "                self.result(-i[0])\n",
    "    \n",
    "    def __receive_card(self, card):\n",
    "        super().receive_card(card, 0)\n",
    "        if len(self.hand[0]) == 2:\n",
    "            print(f'Dealer hand: [{self.hand[0][0]}, [x, xxxxx]]')\n",
    "            \n",
    "        \n",
    "    def evaluate(self, a_hand):\n",
    "        \n",
    "        self.d_h_sum = self.__count_sum(self.hand[0])\n",
    "        p_h_sum = self.__count_sum(a_hand)\n",
    "            \n",
    "        \n",
    "        if(self.status == 5):\n",
    "            \n",
    "            if (len(self.hand[0]) == 2 and (self.hand[0][0][0] == 1 or self.hand[0][1][0] == 1) and\n",
    "                                        (self.hand[0][0][0] >= 10 or self.hand[0][1][0] >= 10)):\n",
    "            \n",
    "                if (len(a_hand) == 2 and (a_hand[0][0] == 1 or a_hand[1][0] == 1) and \n",
    "                                        (a_hand[0][0] >= 10 or a_hand[1][0] >= 10)):\n",
    "                    print('----------------DRAW! PLAYER AND DEALER BLACKJACK-----------------')\n",
    "                    return 0\n",
    "                else:\n",
    "                    print('------------------------DEALER BLACKJACK!-------------------------')\n",
    "                    return 1\n",
    "            if len(a_hand) == 2 and (a_hand[0][0] == 1 or a_hand[1][0] == 1) and (a_hand[0][0] >= 10 or a_hand[1][0] >= 10):\n",
    "                print('------------------------PLAYER BLACKJACK!-------------------------')\n",
    "                return 2\n",
    "            \n",
    "            if(self.d_h_sum > 21 and p_h_sum > 21):\n",
    "                print('----------------DEALER WON! PLAYER AND DEALER BUST-----------------')\n",
    "                return 1\n",
    "            elif(self.d_h_sum > 21):\n",
    "                print('-----------------------PLAYER WON, DEALER BUST!-------------------------')\n",
    "                return 3\n",
    "            elif(p_h_sum > 21):\n",
    "                print('-----------------------DEALER WON, PLAYER BUST!-------------------------')\n",
    "                return 1\n",
    "        \n",
    "            if p_h_sum > self.d_h_sum and p_h_sum <= 21:\n",
    "                print('---------------------------PLAYER WON!----------------------------')\n",
    "                return 3\n",
    "            elif p_h_sum == self.d_h_sum:\n",
    "                print('----------------DRAW! PLAYER AND DEALER SAME VALUE-----------------')\n",
    "                return 0\n",
    "            else:\n",
    "                print('---------------------------DEALER WON!----------------------------') \n",
    "                return 1\n",
    "            \n",
    "        elif p_h_sum >= 21:\n",
    "            return 7\n",
    "            \n",
    "        return 6\n",
    "    \n",
    "    def __count_sum(self, hand): \n",
    "        hand_sum = 0\n",
    "        aces = 0\n",
    "        for i in hand:\n",
    "            if(i[0] == 1):\n",
    "                aces += 1  \n",
    "                continue\n",
    "            elif(i[0] >= 10):\n",
    "                hand_sum += 10\n",
    "                continue\n",
    "            hand_sum += i[0]\n",
    "        for i in range(aces):\n",
    "            if hand_sum + 11 > 21:\n",
    "                hand_sum += 1\n",
    "            else:\n",
    "                hand_sum += 11\n",
    "        return(hand_sum)\n",
    "            \n",
    "                    \n",
    "        "
   ]
  },
  {
   "cell_type": "code",
   "execution_count": 13,
   "metadata": {},
   "outputs": [],
   "source": [
    "# UTILITY FUNCTIONS\n",
    "\n",
    "def user_input(string = None, integer = False, legals = None):\n",
    "    while True:\n",
    "        if integer != False:\n",
    "            try:   \n",
    "                return int(input())\n",
    "            except ValueError:\n",
    "                print('Insert valid integer amount')\n",
    "        else:\n",
    "            temp = str(input(string)).lower()\n",
    "            temp.lower()\n",
    "            if temp in legals:\n",
    "                return temp\n",
    "            else:\n",
    "                print(f'You cant do that, your legal actions are {legals}')\n",
    "            "
   ]
  },
  {
   "cell_type": "code",
   "execution_count": 14,
   "metadata": {},
   "outputs": [],
   "source": [
    "# about, rules, strategy\n",
    "import requests\n",
    "from bs4 import BeautifulSoup\n",
    "import functools\n",
    "import webbrowser\n",
    "\n",
    "\n",
    "def display_strategy_table():\n",
    "    webbrowser.open('https://www.blackjackapprenticeship.com/wp-content/uploads/2018/08/BJA_Basic_Strategy.jpg')\n",
    "    \n",
    "\n",
    "def load_info_from_web():\n",
    "    response = requests.get('http://www.hitorstand.net/strategy.php').text\n",
    "    soup = BeautifulSoup(response, features = 'lxml')\n",
    "\n",
    "    with open('Black_jack_info.txt', 'w') as f:\n",
    "        f.write(' <intro> '+soup.p.text+' <intro> '+ ' <h2> '+soup.h1.text+' <h2> ' + ' <rules> '+soup.ul.text+' <rules> ')\n",
    "\n",
    "\n",
    "\n",
    "def word_for_word_generator():\n",
    "    with open('Black_jack_info.txt','r') as f:\n",
    "        for line in f:\n",
    "            for word in line.split():\n",
    "                yield(word) \n",
    "                \n",
    "\n",
    "def reader(flag, information, inf_dict):\n",
    "    count = 0\n",
    "    paragraph = ''\n",
    "    flag_word = False\n",
    "    if flag in inf_dict:\n",
    "        print('--------------------------------------------------------------')\n",
    "        print(inf_dict[flag])\n",
    "    else:\n",
    "        for word in information:\n",
    "            if word.startswith('<') and word.endswith('>') and word != flag_word:\n",
    "                flag_word = word\n",
    "            elif word == flag_word:\n",
    "                inf_dict[word] = paragraph\n",
    "                flag_word = False\n",
    "                paragraph = ''\n",
    "            \n",
    "            if information != None:\n",
    "                if flag == word:\n",
    "                    count +=1\n",
    "                    if count == 2:\n",
    "                        print('--------------------------------------------------------------')\n",
    "                        print(inf_dict[flag])\n",
    "                        break\n",
    "                elif not word.startswith('<') and not word.endswith('>'):\n",
    "                    paragraph += word+' '\n",
    "                    if word.endswith('.'):\n",
    "                        paragraph += '\\n'\n",
    "        \n",
    "\n",
    "def start_decor(func):\n",
    "    @functools.wraps(func)\n",
    "    def wrapper(*args, **kwargs):\n",
    "        print('This is a game of Blackjack that I have designed, rules are the standard rules, without any add-ons')\n",
    "        func(*args, **kwargs)\n",
    "    return wrapper\n",
    "\n",
    "                \n",
    "    \n",
    "@start_decor\n",
    "def rules_and_info(information, inf_dict):\n",
    "    while True:\n",
    "        inp = str(input('To start game type hit enter, for introduction type \"intro\", for rules type \"rules\" for strategy type \"strategy\" ')).lower()\n",
    "        if inp == 'intro':\n",
    "            reader('<intro>', information, inf_dict)\n",
    "        elif inp == 'rules':\n",
    "            reader('<h2>', information,inf_dict)\n",
    "            reader('<rules>', information, inf_dict)\n",
    "        elif inp == '':\n",
    "            break\n",
    "        elif inp == 'strategy':\n",
    "            display_strategy_table()"
   ]
  },
  {
   "cell_type": "code",
   "execution_count": 15,
   "metadata": {},
   "outputs": [],
   "source": [
    "#GAME LOOP\n",
    "\n",
    "def game_loop():\n",
    "    \n",
    "    #Load data to file from website\n",
    "    load_info_from_web()   \n",
    "    #create generator\n",
    "    info = word_for_word_generator()\n",
    "    info_dict = {}#dict for storing info\n",
    "    \n",
    "    rules_and_info(info, info_dict)\n",
    "    \n",
    "    while True:\n",
    "        \n",
    "        deck = Deck()\n",
    "        dealer = Dealer(deck = deck)\n",
    "        player = Player(dealer)\n",
    "        dealer.add_player(player)\n",
    "        deck.shuffle() \n",
    "\n",
    "        while(dealer.game_status == 1 and player.game_status == 1):\n",
    "            player.hand = [[]]\n",
    "            dealer.hand = [[]]\n",
    "            player.bet = [[]]\n",
    "        \n",
    "            print('New Round!')\n",
    "            print(f'Player place your bet!, your balance is {player.cash}')\n",
    "            player.place_bet(user_input(integer = True))\n",
    "    \n",
    "            dealer.deal(target=1, idx=0)\n",
    "            dealer.deal(target=0, idx=0)\n",
    "            dealer.deal(target=1, idx=0)\n",
    "            dealer.deal(target=0, idx=0)\n",
    "\n",
    "        \n",
    "            control_idx = 0\n",
    "             \n",
    "            while (control_idx+1) <= len(player.hand):\n",
    "                print('------------------------------------------------------------------')\n",
    "                \n",
    "                status = dealer.evaluate(player.hand[control_idx])\n",
    "                if status == 7:\n",
    "                    print(f'status: {status}')\n",
    "                    control_idx += 1\n",
    "                    continue\n",
    "                    \n",
    "                if len(player.hand) >= 2:\n",
    "                    print(f'You are currently playing on this hand: {player.hand[control_idx]}')\n",
    "                    \n",
    "                \n",
    "            \n",
    "                if (len(player.hand[control_idx]) == 2 and player.hand[control_idx][0][0] == player.hand[control_idx][1][0]\n",
    "                                                                               and player.bet[control_idx] <= player.cash): \n",
    "                    player_decision = user_input(string='player make your move, you can hit,stand,double or split!',legals=['hit','stand','double','split'])\n",
    "                    if player_decision == 'split':\n",
    "                        player.split(0)\n",
    "                        player.place_bet(target=control_idx)\n",
    "                        player.hit(-1)\n",
    "                        player.hit(-2)\n",
    "                        continue\n",
    "                        \n",
    "                    if player_decision == 'double':\n",
    "                        player.place_bet(target=control_idx, double = True)\n",
    "                        player.hit(control_idx)\n",
    "                        control_idx += 1\n",
    "                        continue\n",
    "                            \n",
    "                elif len(player.hand[control_idx]) == 2 and player.bet[control_idx] <= player.cash:\n",
    "                    player_decision = user_input(string='Player make your move, you can hit,stand or double!', legals=['hit', 'stand', 'double'])\n",
    "                    if player_decision == 'double':\n",
    "                        player.place_bet(target=control_idx, double = True)\n",
    "                        player.hit(control_idx)\n",
    "                        control_idx += 1\n",
    "                        continue\n",
    "                \n",
    "                else:\n",
    "                    player_decision = user_input(string='Player make your move, you can hit or stand!', legals=['hit', 'stand'])\n",
    "                    \n",
    "                if player_decision == 'hit':\n",
    "                    player.hit(control_idx)\n",
    "                    status = dealer.evaluate(player.hand[control_idx])\n",
    "                    if status == 7:\n",
    "                        control_idx += 1\n",
    "                    continue\n",
    "                if player_decision == 'stand':\n",
    "                    control_idx += 1\n",
    "                    continue\n",
    "            \n",
    "            if len(player.hand) < control_idx +1:\n",
    "                while(dealer.d_h_sum < 17):\n",
    "                    dealer.deal(0)\n",
    "                    dealer.d_h_sum = dealer._Dealer__count_sum(dealer.hand[0])\n",
    "                else:\n",
    "                    print(f'DEALER FINAL HAND: {dealer.hand}')\n",
    "                \n",
    "                dealer.status = 5\n",
    "                for i in range(len(player.hand)):\n",
    "                    status = dealer.evaluate(player.hand[i])\n",
    "                    player.bet[i] = (player.bet[i], status)\n",
    "                control_idx = len(player.hand) -1\n",
    "            \n",
    "                \n",
    "            \n",
    "            dealer.status = 6 #hand played\n",
    "        \n",
    "            dealer.round_over(player.bet)\n",
    "            dealer.status = 6\n",
    "            control_idx = 0\n",
    "            \n",
    "            if dealer.game_status != 1:\n",
    "                print(dealer.game_status)\n",
    "            elif player.game_status != 1:\n",
    "                print(player.game_status)\n",
    "        while True:\n",
    "            inp = str(input('Play agian, \"yes\" or \"no\" ')).lower()\n",
    "            if inp == 'yes':\n",
    "                break\n",
    "            if inp == 'no':\n",
    "                break\n",
    "        if inp == 'no':\n",
    "            break\n"
   ]
  },
  {
   "cell_type": "code",
   "execution_count": 16,
   "metadata": {},
   "outputs": [
    {
     "name": "stdout",
     "output_type": "stream",
     "text": [
      "This is a game of Blackjack that I have designed, rules are the standard rules, without any add-ons\n",
      "To start game type hit enter, for introduction type \"intro\", for rules type \"rules\" for strategy type \"strategy\" \n",
      "New Round!\n",
      "Player place your bet!, your balance is 500\n",
      "100\n",
      "cash : 400\n",
      "Player hand: [[(8, 'Diamonds'), (8, 'Hearts')]]\n",
      "Dealer hand: [(8, 'Spades'), [x, xxxxx]]\n",
      "------------------------------------------------------------------\n",
      "player make your move, you can hit,stand,double or split!split\n",
      "cash : 300\n",
      "Player hand number 0: [(13, 'Spades'), (8, 'Diamonds')]\n",
      "Player hand number 1: [(9, 'Diamonds'), (8, 'Hearts')]\n",
      "------------------------------------------------------------------\n",
      "You are currently playing on this hand: [(13, 'Spades'), (8, 'Diamonds')]\n",
      "Player make your move, you can hit,stand or double!stand\n",
      "------------------------------------------------------------------\n",
      "You are currently playing on this hand: [(9, 'Diamonds'), (8, 'Hearts')]\n",
      "Player make your move, you can hit,stand or double!stand\n",
      "DEALER FINAL HAND: [[(8, 'Spades'), (13, 'Hearts')]]\n",
      "----------------DRAW! PLAYER AND DEALER SAME VALUE-----------------\n",
      "---------------------------DEALER WON!----------------------------\n",
      "New Round!\n",
      "Player place your bet!, your balance is 400\n",
      "100\n",
      "cash : 300\n",
      "Player hand: [[(6, 'Diamonds'), (6, 'Spades')]]\n",
      "Dealer hand: [(11, 'Hearts'), [x, xxxxx]]\n",
      "------------------------------------------------------------------\n",
      "player make your move, you can hit,stand,double or split!split\n",
      "cash : 200\n",
      "Player hand number 0: [(13, 'Diamonds'), (6, 'Diamonds')]\n",
      "Player hand number 1: [(13, 'Clubs'), (6, 'Spades')]\n",
      "------------------------------------------------------------------\n",
      "You are currently playing on this hand: [(13, 'Diamonds'), (6, 'Diamonds')]\n",
      "Player make your move, you can hit,stand or double!hit\n",
      "Player hand number 0: [(3, 'Spades'), (13, 'Diamonds'), (6, 'Diamonds')]\n",
      "Player hand number 1: [(13, 'Clubs'), (6, 'Spades')]\n",
      "------------------------------------------------------------------\n",
      "You are currently playing on this hand: [(3, 'Spades'), (13, 'Diamonds'), (6, 'Diamonds')]\n",
      "Player make your move, you can hit or stand!stand\n",
      "------------------------------------------------------------------\n",
      "You are currently playing on this hand: [(13, 'Clubs'), (6, 'Spades')]\n",
      "Player make your move, you can hit,stand or double!double\n",
      "cash : 100\n",
      "Player hand number 0: [(3, 'Spades'), (13, 'Diamonds'), (6, 'Diamonds')]\n",
      "Player hand number 1: [(11, 'Clubs'), (13, 'Clubs'), (6, 'Spades')]\n",
      "DEALER FINAL HAND: [[(11, 'Hearts'), (10, 'Diamonds')]]\n",
      "---------------------------DEALER WON!----------------------------\n",
      "-----------------------DEALER WON, PLAYER BUST!-------------------------\n",
      "New Round!\n",
      "Player place your bet!, your balance is 100\n",
      "100\n",
      "cash : 0\n",
      "Player hand: [[(11, 'Spades'), (1, 'Spades')]]\n",
      "Dealer hand: [(2, 'Hearts'), [x, xxxxx]]\n",
      "------------------------------------------------------------------\n",
      "status: 7\n",
      "DEALER FINAL HAND: [[(7, 'Clubs'), (6, 'Hearts'), (2, 'Diamonds'), (2, 'Hearts'), (3, 'Hearts')]]\n",
      "------------------------PLAYER BLACKJACK!-------------------------\n",
      "New Round!\n",
      "Player place your bet!, your balance is 250.0\n",
      "250\n",
      "cash : 0.0\n",
      "Player hand: [[(11, 'Diamonds'), (9, 'Clubs')]]\n",
      "Dealer hand: [(4, 'Hearts'), [x, xxxxx]]\n",
      "------------------------------------------------------------------\n",
      "Player make your move, you can hit or stand!stand\n",
      "DEALER FINAL HAND: [[(6, 'Clubs'), (4, 'Hearts'), (7, 'Hearts')]]\n",
      "---------------------------PLAYER WON!----------------------------\n",
      "New Round!\n",
      "Player place your bet!, your balance is 500.0\n",
      "500\n",
      "cash : 0.0\n",
      "Player hand: [[(2, 'Spades'), (4, 'Clubs')]]\n",
      "Dealer hand: [(4, 'Diamonds'), [x, xxxxx]]\n",
      "------------------------------------------------------------------\n",
      "Player make your move, you can hit or stand!hit\n",
      "Player hand: [[(8, 'Clubs'), (2, 'Spades'), (4, 'Clubs')]]\n",
      "------------------------------------------------------------------\n",
      "Player make your move, you can hit or stand!hit\n",
      "Player hand: [[(1, 'Hearts'), (8, 'Clubs'), (2, 'Spades'), (4, 'Clubs')]]\n",
      "------------------------------------------------------------------\n",
      "Player make your move, you can hit or stand!hit\n",
      "Player hand: [[(10, 'Spades'), (1, 'Hearts'), (8, 'Clubs'), (2, 'Spades'), (4, 'Clubs')]]\n",
      "DEALER FINAL HAND: [[(12, 'Spades'), (4, 'Diamonds'), (10, 'Hearts')]]\n",
      "----------------DEALER WON! PLAYER AND DEALER BUST-----------------\n",
      "Game over player broke\n",
      "Play agian, \"yes\" or \"no\" no\n"
     ]
    }
   ],
   "source": [
    "game_loop()"
   ]
  },
  {
   "cell_type": "code",
   "execution_count": 4,
   "metadata": {},
   "outputs": [
    {
     "name": "stdout",
     "output_type": "stream",
     "text": [
      "C:\\Users\\Benjamin\\python_exam\n"
     ]
    }
   ],
   "source": [
    "print(os.getcwd())"
   ]
  },
  {
   "cell_type": "code",
   "execution_count": null,
   "metadata": {},
   "outputs": [],
   "source": []
  }
 ],
 "metadata": {
  "kernelspec": {
   "display_name": "Python 3",
   "language": "python",
   "name": "python3"
  },
  "language_info": {
   "codemirror_mode": {
    "name": "ipython",
    "version": 3
   },
   "file_extension": ".py",
   "mimetype": "text/x-python",
   "name": "python",
   "nbconvert_exporter": "python",
   "pygments_lexer": "ipython3",
   "version": "3.7.3"
  }
 },
 "nbformat": 4,
 "nbformat_minor": 4
}
